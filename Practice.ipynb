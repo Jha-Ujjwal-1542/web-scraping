{
 "cells": [
  {
   "cell_type": "code",
   "execution_count": 1,
   "id": "09d176e1-5f62-422e-8973-b57cdf8e5f6e",
   "metadata": {
    "tags": []
   },
   "outputs": [
    {
     "data": {
      "text/plain": [
       "47"
      ]
     },
     "execution_count": 1,
     "metadata": {},
     "output_type": "execute_result"
    }
   ],
   "source": [
    "from bs4 import BeautifulSoup\n",
    "import urllib.request\n",
    "from csv import writer\n",
    "\n",
    "sauce = urllib.request.urlopen('https://www.newegg.com/p/pl?d=graphics+card').read()\n",
    "\n",
    "soup = BeautifulSoup(sauce, 'lxml')\n",
    "\n",
    "containers = soup.findAll(\"div\",{\"class\":\"item-container\"})\n",
    "len(containers)"
   ]
  },
  {
   "cell_type": "code",
   "execution_count": 2,
   "id": "82e7b37c-aa70-4c5e-9a11-dd829e3f6490",
   "metadata": {},
   "outputs": [],
   "source": [
    "contain = containers[0]"
   ]
  },
  {
   "cell_type": "code",
   "execution_count": 19,
   "id": "2dbed10a-c85f-4236-be03-529b475ecbb4",
   "metadata": {
    "collapsed": true,
    "jupyter": {
     "outputs_hidden": true
    },
    "tags": []
   },
   "outputs": [
    {
     "data": {
      "text/plain": [
       "[<a class=\"item-brand\" href=\"https://www.newegg.com/Peladn/BrandStore/ID-219086\"><img alt=\"Peladn\" src=\"https://c1.neweggimages.com/Brandimage_70x28/Brand219086.gif\" title=\"Peladn\"/></a>,\n",
       " <a class=\"item-brand\" href=\"https://www.newegg.com/GIGABYTE/BrandStore/ID-1314\"><img alt=\"GIGABYTE\" src=\"https://c1.neweggimages.com/Brandimage_70x28/Brand1314.gif\" title=\"GIGABYTE\"/></a>,\n",
       " <a class=\"item-brand\" href=\"https://www.newegg.com/MSI/BrandStore/ID-1312\"><img alt=\"MSI\" src=\"https://c1.neweggimages.com/Brandimage_70x28/Brand1312.gif\" title=\"MSI\"/></a>,\n",
       " <a class=\"item-brand\" href=\"https://www.newegg.com/Peladn/BrandStore/ID-219086\"><img alt=\"Peladn\" src=\"https://c1.neweggimages.com/Brandimage_70x28/Brand219086.gif\" title=\"Peladn\"/></a>,\n",
       " <a class=\"item-brand\" href=\"https://www.newegg.com/ASUS/BrandStore/ID-1315\"><img alt=\"ASUS\" src=\"https://c1.neweggimages.com/Brandimage_70x28/Brand1315.gif\" title=\"ASUS\"/></a>,\n",
       " <a class=\"item-brand\" href=\"https://www.newegg.com/GIGABYTE/BrandStore/ID-1314\"><img alt=\"GIGABYTE\" src=\"https://c1.neweggimages.com/Brandimage_70x28/Brand1314.gif\" title=\"GIGABYTE\"/></a>,\n",
       " <a class=\"item-brand\" href=\"https://www.newegg.com/MSI/BrandStore/ID-1312\"><img alt=\"MSI\" src=\"https://c1.neweggimages.com/Brandimage_70x28/Brand1312.gif\" title=\"MSI\"/></a>,\n",
       " <a class=\"item-brand\" href=\"https://www.newegg.com/ZOTAC/BrandStore/ID-12150\"><img alt=\"ZOTAC\" src=\"https://c1.neweggimages.com/Brandimage_70x28/Brand12150.gif\" title=\"ZOTAC\"/></a>,\n",
       " <a class=\"item-brand\" href=\"https://www.newegg.com/Peladn/BrandStore/ID-219086\"><img alt=\"Peladn\" src=\"https://c1.neweggimages.com/Brandimage_70x28/Brand219086.gif\" title=\"Peladn\"/></a>,\n",
       " <a class=\"item-brand\" href=\"https://www.newegg.com/MSI/BrandStore/ID-1312\"><img alt=\"MSI\" src=\"https://c1.neweggimages.com/Brandimage_70x28/Brand1312.gif\" title=\"MSI\"/></a>,\n",
       " <a class=\"item-brand\" href=\"https://www.newegg.com/MSI/BrandStore/ID-1312\"><img alt=\"MSI\" src=\"https://c1.neweggimages.com/Brandimage_70x28/Brand1312.gif\" title=\"MSI\"/></a>,\n",
       " <a class=\"item-brand\" href=\"https://www.newegg.com/yeston/BrandStore/ID-203181\"><img alt=\"yeston\" src=\"https://c1.neweggimages.com/Brandimage_70x28/Brand203181.gif\" title=\"yeston\"/></a>,\n",
       " <a class=\"item-brand\" href=\"https://www.newegg.com/MSI/BrandStore/ID-1312\"><img alt=\"MSI\" src=\"https://c1.neweggimages.com/Brandimage_70x28/Brand1312.gif\" title=\"MSI\"/></a>,\n",
       " <a class=\"item-brand\" href=\"https://www.newegg.com/yeston/BrandStore/ID-203181\"><img alt=\"yeston\" src=\"https://c1.neweggimages.com/Brandimage_70x28/Brand203181.gif\" title=\"yeston\"/></a>,\n",
       " <a class=\"item-brand\" href=\"https://www.newegg.com/GIGABYTE/BrandStore/ID-1314\"><img alt=\"GIGABYTE\" src=\"https://c1.neweggimages.com/Brandimage_70x28/Brand1314.gif\" title=\"GIGABYTE\"/></a>,\n",
       " <a class=\"item-brand\" href=\"https://www.newegg.com/GIGABYTE/BrandStore/ID-1314\"><img alt=\"GIGABYTE\" src=\"https://c1.neweggimages.com/Brandimage_70x28/Brand1314.gif\" title=\"GIGABYTE\"/></a>,\n",
       " <a class=\"item-brand\" href=\"https://www.newegg.com/yeston/BrandStore/ID-203181\"><img alt=\"yeston\" src=\"https://c1.neweggimages.com/Brandimage_70x28/Brand203181.gif\" title=\"yeston\"/></a>,\n",
       " <a class=\"item-brand\" href=\"https://www.newegg.com/MSI/BrandStore/ID-1312\"><img alt=\"MSI\" src=\"https://c1.neweggimages.com/Brandimage_70x28/Brand1312.gif\" title=\"MSI\"/></a>,\n",
       " <a class=\"item-brand\" href=\"https://www.newegg.com/yeston/BrandStore/ID-203181\"><img alt=\"yeston\" src=\"https://c1.neweggimages.com/Brandimage_70x28/Brand203181.gif\" title=\"yeston\"/></a>,\n",
       " <a class=\"item-brand\" href=\"https://www.newegg.com/yeston/BrandStore/ID-203181\"><img alt=\"yeston\" src=\"https://c1.neweggimages.com/Brandimage_70x28/Brand203181.gif\" title=\"yeston\"/></a>,\n",
       " <a class=\"item-brand\" href=\"https://www.newegg.com/MSI/BrandStore/ID-1312\"><img alt=\"MSI\" src=\"https://c1.neweggimages.com/Brandimage_70x28/Brand1312.gif\" title=\"MSI\"/></a>,\n",
       " <a class=\"item-brand\" href=\"https://www.newegg.com/GIGABYTE/BrandStore/ID-1314\"><img alt=\"GIGABYTE\" src=\"https://c1.neweggimages.com/Brandimage_70x28/Brand1314.gif\" title=\"GIGABYTE\"/></a>,\n",
       " <a class=\"item-brand\" href=\"https://www.newegg.com/MSI/BrandStore/ID-1312\"><img alt=\"MSI\" src=\"https://c1.neweggimages.com/Brandimage_70x28/Brand1312.gif\" title=\"MSI\"/></a>,\n",
       " <a class=\"item-brand\" href=\"https://www.newegg.com/GIGABYTE/BrandStore/ID-1314\"><img alt=\"GIGABYTE\" src=\"https://c1.neweggimages.com/Brandimage_70x28/Brand1314.gif\" title=\"GIGABYTE\"/></a>,\n",
       " <a class=\"item-brand\" href=\"https://www.newegg.com/MSI/BrandStore/ID-1312\"><img alt=\"MSI\" src=\"https://c1.neweggimages.com/Brandimage_70x28/Brand1312.gif\" title=\"MSI\"/></a>,\n",
       " <a class=\"item-brand\" href=\"https://www.newegg.com/GIGABYTE/BrandStore/ID-1314\"><img alt=\"GIGABYTE\" src=\"https://c1.neweggimages.com/Brandimage_70x28/Brand1314.gif\" title=\"GIGABYTE\"/></a>,\n",
       " <a class=\"item-brand\" href=\"https://www.newegg.com/MSI/BrandStore/ID-1312\"><img alt=\"MSI\" src=\"https://c1.neweggimages.com/Brandimage_70x28/Brand1312.gif\" title=\"MSI\"/></a>,\n",
       " <a class=\"item-brand\" href=\"https://www.newegg.com/Peladn/BrandStore/ID-219086\"><img alt=\"Peladn\" src=\"https://c1.neweggimages.com/Brandimage_70x28/Brand219086.gif\" title=\"Peladn\"/></a>,\n",
       " <a class=\"item-brand\" href=\"https://www.newegg.com/yeston/BrandStore/ID-203181\"><img alt=\"yeston\" src=\"https://c1.neweggimages.com/Brandimage_70x28/Brand203181.gif\" title=\"yeston\"/></a>,\n",
       " <a class=\"item-brand\" href=\"https://www.newegg.com/MSI/BrandStore/ID-1312\"><img alt=\"MSI\" src=\"https://c1.neweggimages.com/Brandimage_70x28/Brand1312.gif\" title=\"MSI\"/></a>,\n",
       " <a class=\"item-brand\" href=\"https://www.newegg.com/Sapphire-Tech/BrandStore/ID-1561\"><img alt=\"Sapphire Tech\" src=\"https://c1.neweggimages.com/Brandimage_70x28/Brand1561.gif\" title=\"Sapphire Tech\"/></a>,\n",
       " <a class=\"item-brand\" href=\"https://www.newegg.com/ASUS/BrandStore/ID-1315\"><img alt=\"ASUS\" src=\"https://c1.neweggimages.com/Brandimage_70x28/Brand1315.gif\" title=\"ASUS\"/></a>,\n",
       " <a class=\"item-brand\" href=\"https://www.newegg.com/ASUS/BrandStore/ID-1315\"><img alt=\"ASUS\" src=\"https://c1.neweggimages.com/Brandimage_70x28/Brand1315.gif\" title=\"ASUS\"/></a>,\n",
       " <a class=\"item-brand\" href=\"https://www.newegg.com/MSI/BrandStore/ID-1312\"><img alt=\"MSI\" src=\"https://c1.neweggimages.com/Brandimage_70x28/Brand1312.gif\" title=\"MSI\"/></a>,\n",
       " <a class=\"item-brand\" href=\"https://www.newegg.com/ZOTAC/BrandStore/ID-12150\"><img alt=\"ZOTAC\" src=\"https://c1.neweggimages.com/Brandimage_70x28/Brand12150.gif\" title=\"ZOTAC\"/></a>,\n",
       " <a class=\"item-brand\" href=\"https://www.newegg.com/MSI/BrandStore/ID-1312\"><img alt=\"MSI\" src=\"https://c1.neweggimages.com/Brandimage_70x28/Brand1312.gif\" title=\"MSI\"/></a>,\n",
       " <a class=\"item-brand\" href=\"https://www.newegg.com/MSI/BrandStore/ID-1312\"><img alt=\"MSI\" src=\"https://c1.neweggimages.com/Brandimage_70x28/Brand1312.gif\" title=\"MSI\"/></a>,\n",
       " <a class=\"item-brand\" href=\"https://www.newegg.com/Peladn/BrandStore/ID-219086\"><img alt=\"Peladn\" src=\"https://c1.neweggimages.com/Brandimage_70x28/Brand219086.gif\" title=\"Peladn\"/></a>,\n",
       " <a class=\"item-brand\" href=\"https://www.newegg.com/GIGABYTE/BrandStore/ID-1314\"><img alt=\"GIGABYTE\" src=\"https://c1.neweggimages.com/Brandimage_70x28/Brand1314.gif\" title=\"GIGABYTE\"/></a>,\n",
       " <a class=\"item-brand\" href=\"https://www.newegg.com/MSI/BrandStore/ID-1312\"><img alt=\"MSI\" src=\"https://c1.neweggimages.com/Brandimage_70x28/Brand1312.gif\" title=\"MSI\"/></a>,\n",
       " <a class=\"item-brand\" href=\"https://www.newegg.com/GIGABYTE/BrandStore/ID-1314\"><img alt=\"GIGABYTE\" src=\"https://c1.neweggimages.com/Brandimage_70x28/Brand1314.gif\" title=\"GIGABYTE\"/></a>,\n",
       " <a class=\"item-brand\" href=\"https://www.newegg.com/MSI/BrandStore/ID-1312\"><img alt=\"MSI\" src=\"https://c1.neweggimages.com/Brandimage_70x28/Brand1312.gif\" title=\"MSI\"/></a>,\n",
       " <a class=\"item-brand\" href=\"https://www.newegg.com/MSI/BrandStore/ID-1312\"><img alt=\"MSI\" src=\"https://c1.neweggimages.com/Brandimage_70x28/Brand1312.gif\" title=\"MSI\"/></a>,\n",
       " <a class=\"item-brand\" href=\"https://www.newegg.com/GIGABYTE/BrandStore/ID-1314\"><img alt=\"GIGABYTE\" src=\"https://c1.neweggimages.com/Brandimage_70x28/Brand1314.gif\" title=\"GIGABYTE\"/></a>]"
      ]
     },
     "execution_count": 19,
     "metadata": {},
     "output_type": "execute_result"
    }
   ],
   "source": [
    "#brand = soup.find(\"a\", {\"class\": \"item-brand\"}).img[\"title\"]\n",
    "brand = soup.findAll(\"a\", {\"class\": \"item-brand\"})\n",
    "#brand_name = brand[0].img[\"title\"]\n",
    "brand"
   ]
  },
  {
   "cell_type": "code",
   "execution_count": 4,
   "id": "253785d9-6158-416d-ba54-1135d03d02b0",
   "metadata": {
    "tags": []
   },
   "outputs": [
    {
     "data": {
      "text/plain": [
       "'Yeston Nvidia GeForce GTX 1050 Ti Graphics Card  4GB 128-Bit GDDR5 PCI Express 3.0 x16 video cards DVI-D/HDMI/DP Tri-Ports, G-Sync, GPU Boost, DirectX 12, Gaming GPU, Desktop Video Card'"
      ]
     },
     "execution_count": 4,
     "metadata": {},
     "output_type": "execute_result"
    }
   ],
   "source": [
    "product = soup.find(\"a\",{\"class\":\"item-title\"}).text\n",
    "#product_name = product[0].text\n",
    "#product_name = contain.div.a.text\n",
    "product"
   ]
  },
  {
   "cell_type": "code",
   "execution_count": 5,
   "id": "941c32b2-beef-4099-8327-f841c9f5f6eb",
   "metadata": {
    "tags": []
   },
   "outputs": [
    {
     "data": {
      "text/plain": [
       "'169.00'"
      ]
     },
     "execution_count": 5,
     "metadata": {},
     "output_type": "execute_result"
    }
   ],
   "source": [
    "current_price = soup.find(\"li\", {\"class\": \"price-current\"}).strong.text + soup.find(\"li\", {\"class\": \"price-current\"}).sup.text\n",
    "#price = current_price.strong.text + current_price.sup.text\n",
    "current_price\n",
    "#price = current_price[0].strong.text + current_price[0].sup.text"
   ]
  },
  {
   "cell_type": "code",
   "execution_count": 21,
   "id": "ff454c2e-f9a8-4a2e-b43c-0731025e83ba",
   "metadata": {
    "tags": []
   },
   "outputs": [
    {
     "name": "stdout",
     "output_type": "stream",
     "text": [
      "Brand:  \n",
      "Name:  \n",
      "Price:  \n",
      "Brand:  \n",
      "Name:  \n",
      "Price:  \n",
      "Brand:  \n",
      "Name:  \n",
      "Price:  \n",
      "Brand:  \n",
      "Name:  \n",
      "Price:  \n",
      "Brand:  \n",
      "Name:  \n",
      "Price:  \n",
      "Brand:  \n",
      "Name:  \n",
      "Price:  \n",
      "Brand:  \n",
      "Name:  \n",
      "Price:  \n",
      "Brand:  \n",
      "Name:  \n",
      "Price:  \n",
      "Brand:  \n",
      "Name:  \n",
      "Price:  \n",
      "Brand:  \n",
      "Name:  \n",
      "Price:  \n",
      "Brand:  \n",
      "Name:  \n",
      "Price:  \n",
      "Brand:  \n",
      "Name:  \n",
      "Price:  \n",
      "Brand:  \n",
      "Name:  \n",
      "Price:  \n",
      "Brand:  \n",
      "Name:  \n",
      "Price:  \n",
      "Brand:  \n",
      "Name:  \n",
      "Price:  \n",
      "Brand:  \n",
      "Name:  \n",
      "Price:  \n",
      "Brand:  \n",
      "Name:  \n",
      "Price:  \n",
      "Brand:  \n",
      "Name:  \n",
      "Price:  \n",
      "Brand:  \n",
      "Name:  \n",
      "Price:  \n",
      "Brand:  \n",
      "Name:  \n",
      "Price:  \n",
      "Brand:  \n",
      "Name:  \n",
      "Price:  \n",
      "Brand:  \n",
      "Name:  \n",
      "Price:  \n",
      "Brand:  \n",
      "Name:  \n",
      "Price:  \n",
      "Brand:  \n",
      "Name:  \n",
      "Price:  \n",
      "Brand:  \n",
      "Name:  \n",
      "Price:  \n",
      "Brand:  \n",
      "Name:  \n",
      "Price:  \n",
      "Brand:  \n",
      "Name:  \n",
      "Price:  \n",
      "Brand:  \n",
      "Name:  \n",
      "Price:  \n",
      "Brand:  \n",
      "Name:  \n",
      "Price:  \n",
      "Brand:  \n",
      "Name:  \n",
      "Price:  \n",
      "Brand:  \n",
      "Name:  \n",
      "Price:  \n",
      "Brand:  \n",
      "Name:  \n",
      "Price:  \n",
      "Brand:  \n",
      "Name:  \n",
      "Price:  \n",
      "Brand:  \n",
      "Name:  \n",
      "Price:  \n",
      "Brand:  \n",
      "Name:  \n",
      "Price:  \n",
      "Brand:  \n",
      "Name:  \n",
      "Price:  \n",
      "Brand:  \n",
      "Name:  \n",
      "Price:  \n",
      "Brand:  \n",
      "Name:  \n",
      "Price:  \n",
      "Brand:  \n",
      "Name:  \n",
      "Price:  \n",
      "Brand:  \n",
      "Name:  \n",
      "Price:  \n",
      "Brand:  \n",
      "Name:  \n",
      "Price:  \n",
      "Brand:  \n",
      "Name:  \n",
      "Price:  \n",
      "Brand:  \n",
      "Name:  \n",
      "Price:  \n",
      "Brand:  \n",
      "Name:  \n",
      "Price:  \n",
      "Brand:  \n",
      "Name:  \n",
      "Price:  \n",
      "Brand:  \n",
      "Name:  \n",
      "Price:  \n",
      "Brand:  \n",
      "Name:  \n",
      "Price:  \n"
     ]
    }
   ],
   "source": [
    "with open('new.csv', 'w', encoding='utf8', newline='') as f:\n",
    "    thewriter = writer(f)\n",
    "    headers = ['Brand_Name','Product_Name', 'Price']\n",
    "    thewriter.writerow(headers)\n",
    "    \n",
    "    for i in range(len(containers)):\n",
    "        #brand = soup.find(\"a\",{\"class\":\"item-brand\"})[i].img[\"title\"]\n",
    "        if brand == soup.find(\"a\",{\"class\":\"item-brand\"}):\n",
    "            print(\"Brand:  \" + brand[i].img[\"title\"]) \n",
    "        else:\n",
    "            print(\"Brand:  \" + '')\n",
    "\n",
    "        if product == soup.find(\"a\",{\"class\":\"item-title\"}):\n",
    "            print(\"Name:  \" + product[i].text.replace(\",\",\" | \"))\n",
    "        else:\n",
    "            print(\"Name:  \" + '')\n",
    "\n",
    "        if current_price == soup.find(\"li\", {\"class\": \"price-current\"}):\n",
    "            print(\"Price:  \" + current_price[i].strong.text + current_price[i].sup.text)\n",
    "        else:\n",
    "            print(\"Price:  \" + '')\n",
    "\n",
    "        info = [brand, product, current_price]\n",
    "        #print(info)\n",
    "        thewriter.writerow(info)\n",
    "\n",
    "        #print(\"Brand Name:  \" + brand)\n",
    "        #print(\"Product Name:  \" + product)\n",
    "        #print(\"Price:  \" + current_price)"
   ]
  },
  {
   "cell_type": "code",
   "execution_count": null,
   "id": "e2890a05-8147-449e-988e-3d88d7d0ec87",
   "metadata": {},
   "outputs": [],
   "source": []
  }
 ],
 "metadata": {
  "kernelspec": {
   "display_name": "Python 3",
   "language": "python",
   "name": "python3"
  },
  "language_info": {
   "codemirror_mode": {
    "name": "ipython",
    "version": 3
   },
   "file_extension": ".py",
   "mimetype": "text/x-python",
   "name": "python",
   "nbconvert_exporter": "python",
   "pygments_lexer": "ipython3",
   "version": "3.11.0 (main, Oct 24 2022, 18:26:48) [MSC v.1933 64 bit (AMD64)]"
  },
  "vscode": {
   "interpreter": {
    "hash": "7eaaa8ec10ddf641ca140dd6858ca43489c1972257d8cc21589c17b515c172e7"
   }
  }
 },
 "nbformat": 4,
 "nbformat_minor": 5
}
