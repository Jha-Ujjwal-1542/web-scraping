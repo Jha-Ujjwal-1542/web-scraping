{
 "cells": [
  {
   "cell_type": "code",
   "execution_count": 1,
   "id": "598e3daf-2f44-4469-ad1d-f86476d89329",
   "metadata": {},
   "outputs": [],
   "source": [
    "import pandas as pd\n",
    "import numpy as np\n",
    "import matplotlib.pyplot as plt\n",
    "\n",
    "%matplotlib inline\n",
    "\n",
    "from bs4 import BeautifulSoup as soup\n",
    "import re\n",
    "from urllib.request import urlopen as uReq"
   ]
  },
  {
   "cell_type": "code",
   "execution_count": 2,
   "id": "f0618519-4e3c-4258-b5a5-a5aafc70d340",
   "metadata": {},
   "outputs": [],
   "source": [
    "import urllib.request"
   ]
  },
  {
   "cell_type": "code",
   "execution_count": 3,
   "id": "2cbe7601-dca0-4761-a021-3d7da4c08bb7",
   "metadata": {},
   "outputs": [],
   "source": [
    "from bs4 import BeautifulSoup"
   ]
  },
  {
   "cell_type": "code",
   "execution_count": 24,
   "id": "60f6dc6e-d72a-43ac-8635-b18ce9039967",
   "metadata": {},
   "outputs": [
    {
     "name": "stdout",
     "output_type": "stream",
     "text": [
      "<title>graphics card | Newegg.com</title>\n"
     ]
    }
   ],
   "source": [
    "sauce = urllib.request.urlopen('https://www.newegg.com/p/pl?d=graphics+card').read()\n",
    "\n",
    "soup = BeautifulSoup(sauce, 'lxml')\n",
    "print(soup.title)"
   ]
  },
  {
   "cell_type": "code",
   "execution_count": 27,
   "id": "413c4f3e-1260-47ab-b03f-037b3013ef06",
   "metadata": {},
   "outputs": [
    {
     "name": "stdout",
     "output_type": "stream",
     "text": [
      "<span class=\"header2021-info-nowrap header2021-info-min\"></span>\n"
     ]
    }
   ],
   "source": [
    "print(soup.body.span)"
   ]
  },
  {
   "cell_type": "code",
   "execution_count": 28,
   "id": "d3dd4024-e86a-46f7-90fa-642e33671c5b",
   "metadata": {},
   "outputs": [
    {
     "data": {
      "text/plain": [
       "45"
      ]
     },
     "execution_count": 28,
     "metadata": {},
     "output_type": "execute_result"
    }
   ],
   "source": [
    "containers = soup.findAll(\"div\",{\"class\":\"item-cell\"})\n",
    "len(containers)"
   ]
  },
  {
   "cell_type": "code",
   "execution_count": 29,
   "id": "f2dcdc42-6244-454e-a2f2-3db16fe3af11",
   "metadata": {},
   "outputs": [],
   "source": [
    "from csv import writer"
   ]
  },
  {
   "cell_type": "code",
   "execution_count": 33,
   "id": "018dd86e-d2e8-430d-a65c-a366727ec925",
   "metadata": {},
   "outputs": [],
   "source": [
    "contain = containers[0]"
   ]
  },
  {
   "cell_type": "code",
   "execution_count": 35,
   "id": "5b97a835-08a0-4b29-80d7-918a4079da8e",
   "metadata": {},
   "outputs": [
    {
     "data": {
      "text/plain": [
       "'Peladn'"
      ]
     },
     "execution_count": 35,
     "metadata": {},
     "output_type": "execute_result"
    }
   ],
   "source": [
    "brand = contain.findAll(\"a\", {\"class\": \"item-brand\"})\n",
    "brand_name = brand[0].img[\"title\"]\n",
    "brand_name"
   ]
  },
  {
   "cell_type": "code",
   "execution_count": 36,
   "id": "082aacb0-57a7-4688-94d5-0c7b47a0e5a2",
   "metadata": {},
   "outputs": [
    {
     "data": {
      "text/plain": [
       "'Peladn Gaming RTX3070 8G Graphics Card GDDR6 RGB Lighting PCI Express 4.0 Video Card Triple-fan Edition'"
      ]
     },
     "execution_count": 36,
     "metadata": {},
     "output_type": "execute_result"
    }
   ],
   "source": [
    "product_name = contain.div.a.img[\"title\"]\n",
    "product_name"
   ]
  },
  {
   "cell_type": "code",
   "execution_count": null,
   "id": "7d3de06b-42e8-4300-9b16-67f63e466de2",
   "metadata": {},
   "outputs": [
    {
     "data": {
      "text/plain": [
       "'479.00'"
      ]
     },
     "execution_count": 37,
     "metadata": {},
     "output_type": "execute_result"
    }
   ],
   "source": [
    "current_price = contain.findAll(\"li\", {\"class\": \"price-current\"})\n",
    "price = current_price[0].strong.text + current_price[0].sup.text"
   ]
  },
  {
   "cell_type": "code",
   "execution_count": 50,
   "id": "b504bfdc-32aa-40fc-94ea-12cc158f585d",
   "metadata": {},
   "outputs": [
    {
     "name": "stdout",
     "output_type": "stream",
     "text": [
      "\n",
      "\n",
      "\n",
      "\n",
      "Brand Name:  MSI\n",
      "\n",
      "\n",
      "\n",
      "Brand Name:  MSI\n",
      "\n",
      "\n",
      "\n",
      "Brand Name:  MSI\n",
      "\n",
      "Brand Name:  MSI\n",
      "\n",
      "\n",
      "\n",
      "\n",
      "\n",
      "Brand Name:  MSI\n",
      "\n",
      "\n",
      "\n",
      "\n",
      "\n",
      "\n",
      "\n",
      "\n",
      "\n",
      "\n",
      "\n",
      "\n",
      "\n",
      "Brand Name:  MSI\n",
      "\n",
      "\n",
      "\n",
      "\n",
      "\n",
      "Brand Name:  MSI\n",
      "\n",
      "\n",
      "\n",
      "Brand Name:  MSI\n",
      "\n",
      "\n",
      "\n",
      "Brand Name:  MSI\n",
      "\n",
      "\n",
      "\n",
      "\n",
      "\n",
      "\n",
      "\n",
      "Brand Name:  MSI\n",
      "\n",
      "\n",
      "\n",
      "\n",
      "\n",
      "\n",
      "\n",
      "Brand Name:  MSI\n",
      "\n",
      "\n",
      "\n",
      "\n",
      "\n",
      "\n",
      "\n",
      "\n",
      "\n",
      "\n",
      "\n",
      "Brand Name:  MSI\n",
      "\n",
      "Brand Name:  MSI\n",
      "\n",
      "\n",
      "\n",
      "\n",
      "\n",
      "Brand Name:  MSI\n",
      "Price:  599.99\n",
      "Brand Name:  MSI\n"
     ]
    },
    {
     "ename": "AttributeError",
     "evalue": "'NoneType' object has no attribute 'text'",
     "output_type": "error",
     "traceback": [
      "\u001b[1;31m---------------------------------------------------------------------------\u001b[0m",
      "\u001b[1;31mAttributeError\u001b[0m                            Traceback (most recent call last)",
      "\u001b[1;32m~\\AppData\\Local\\Temp\\ipykernel_8184\\4223449969.py\u001b[0m in \u001b[0;36m<module>\u001b[1;34m\u001b[0m\n\u001b[0;32m     14\u001b[0m \u001b[1;33m\u001b[0m\u001b[0m\n\u001b[0;32m     15\u001b[0m         \u001b[0mcurrent_price\u001b[0m \u001b[1;33m=\u001b[0m \u001b[0mcontain\u001b[0m\u001b[1;33m.\u001b[0m\u001b[0mfindAll\u001b[0m\u001b[1;33m(\u001b[0m\u001b[1;34m\"li\"\u001b[0m\u001b[1;33m,\u001b[0m \u001b[1;33m{\u001b[0m\u001b[1;34m\"class\"\u001b[0m\u001b[1;33m:\u001b[0m \u001b[1;34m\"price-current\"\u001b[0m\u001b[1;33m}\u001b[0m\u001b[1;33m)\u001b[0m\u001b[1;33m\u001b[0m\u001b[1;33m\u001b[0m\u001b[0m\n\u001b[1;32m---> 16\u001b[1;33m         \u001b[1;32mif\u001b[0m \u001b[0mprice\u001b[0m \u001b[1;33m==\u001b[0m \u001b[0mcurrent_price\u001b[0m\u001b[1;33m[\u001b[0m\u001b[1;36m0\u001b[0m\u001b[1;33m]\u001b[0m\u001b[1;33m.\u001b[0m\u001b[0mstrong\u001b[0m\u001b[1;33m.\u001b[0m\u001b[0mtext\u001b[0m \u001b[1;33m+\u001b[0m \u001b[0mcurrent_price\u001b[0m\u001b[1;33m[\u001b[0m\u001b[1;36m0\u001b[0m\u001b[1;33m]\u001b[0m\u001b[1;33m.\u001b[0m\u001b[0msup\u001b[0m\u001b[1;33m.\u001b[0m\u001b[0mtext\u001b[0m\u001b[1;33m:\u001b[0m\u001b[1;33m\u001b[0m\u001b[1;33m\u001b[0m\u001b[0m\n\u001b[0m\u001b[0;32m     17\u001b[0m             \u001b[0mprint\u001b[0m\u001b[1;33m(\u001b[0m\u001b[1;34m\"Price:  \"\u001b[0m \u001b[1;33m+\u001b[0m \u001b[0mprice\u001b[0m\u001b[1;33m)\u001b[0m\u001b[1;33m\u001b[0m\u001b[1;33m\u001b[0m\u001b[0m\n\u001b[0;32m     18\u001b[0m         \u001b[1;32melse\u001b[0m\u001b[1;33m:\u001b[0m\u001b[1;33m\u001b[0m\u001b[1;33m\u001b[0m\u001b[0m\n",
      "\u001b[1;31mAttributeError\u001b[0m: 'NoneType' object has no attribute 'text'"
     ]
    }
   ],
   "source": [
    "with open('graphics.csv', 'w', encoding='utf8', newline='') as f:\n",
    "    thewriter = writer(f)\n",
    "    headers = ['Brand_Name','Product_Name', 'Price']\n",
    "    thewriter.writerow(headers)\n",
    "\n",
    "    for contain in containers:\n",
    "        brand = contain.findAll(\"a\", {\"class\": \"item-brand\"})\n",
    "        if brand_name == brand[0].img[\"title\"]:\n",
    "            print(\"Brand Name:  \" + brand_name)\n",
    "        else:\n",
    "            print('')\n",
    "\n",
    "        product_name = contain.div.a.img[\"title\"]\n",
    "\n",
    "        current_price = contain.findAll(\"li\", {\"class\": \"price-current\"})\n",
    "        if price == current_price[0].strong.text + current_price[0].sup.text:\n",
    "            print(\"Price:  \" + price)\n",
    "        else:\n",
    "            print('')\n",
    "            \n",
    "        info = [brand_name, product_name, price]\n",
    "        thewriter.writerow(info)\n",
    "\n",
    "             \n",
    "        #print(\"Brand Name:  \" + brand_name)\n",
    "        #print(\"Product Name:  \" + product_name)\n",
    "        #print(\"Price:  \" + price)"
   ]
  },
  {
   "cell_type": "code",
   "execution_count": null,
   "id": "bda31b95-1662-4d28-bfe3-703184e50db3",
   "metadata": {},
   "outputs": [],
   "source": []
  }
 ],
 "metadata": {
  "kernelspec": {
   "display_name": "Python 3 (ipykernel)",
   "language": "python",
   "name": "python3"
  },
  "language_info": {
   "codemirror_mode": {
    "name": "ipython",
    "version": 3
   },
   "file_extension": ".py",
   "mimetype": "text/x-python",
   "name": "python",
   "nbconvert_exporter": "python",
   "pygments_lexer": "ipython3",
   "version": "3.9.13"
  }
 },
 "nbformat": 4,
 "nbformat_minor": 5
}
