{
 "cells": [
  {
   "cell_type": "code",
   "execution_count": 1,
   "id": "c686f113-fee9-42e5-be9d-c6f4185a14fd",
   "metadata": {},
   "outputs": [],
   "source": [
    "from bs4 import BeautifulSoup\n",
    "import urllib.request\n",
    "from csv import writer\n",
    "\n",
    "sauce = urllib.request.urlopen('https://www.newegg.com/p/pl?d=graphics+card').read()\n",
    "\n",
    "soup = BeautifulSoup(sauce, 'lxml')\n",
    "\n",
    "containers = soup.findAll(\"div\",{\"class\":\"item-container\"})"
   ]
  },
  {
   "cell_type": "code",
   "execution_count": 2,
   "id": "8f6e1847-41bd-4100-b16f-d6822ecf1973",
   "metadata": {},
   "outputs": [],
   "source": [
    "contain = containers[0]"
   ]
  },
  {
   "cell_type": "code",
   "execution_count": 14,
   "id": "3b46729a-f3d4-4867-9e6e-802d840425c5",
   "metadata": {
    "tags": []
   },
   "outputs": [
    {
     "data": {
      "text/plain": [
       "'Peladn'"
      ]
     },
     "execution_count": 14,
     "metadata": {},
     "output_type": "execute_result"
    }
   ],
   "source": [
    "brand = soup.findAll(\"a\", {\"class\": \"item-brand\"})\n",
    "brand[0].img[\"title\"]"
   ]
  },
  {
   "cell_type": "code",
   "execution_count": 15,
   "id": "215dd14c-1c8f-4c6a-a655-5254aa4058f9",
   "metadata": {
    "tags": []
   },
   "outputs": [
    {
     "data": {
      "text/plain": [
       "'Yeston Nvidia GeForce GTX 1050 Ti Graphics Card  4GB 128-Bit GDDR5 PCI Express 3.0 x16 video cards DVI-D/HDMI/DP Tri-Ports, G-Sync, GPU Boost, DirectX 12, Gaming GPU, Desktop Video Card'"
      ]
     },
     "execution_count": 15,
     "metadata": {},
     "output_type": "execute_result"
    }
   ],
   "source": [
    "product = soup.findAll(\"a\",{\"class\":\"item-title\"})\n",
    "product[0].text"
   ]
  },
  {
   "cell_type": "code",
   "execution_count": 16,
   "id": "5b7f2667-af01-439d-aac8-9d96c6bae858",
   "metadata": {},
   "outputs": [
    {
     "data": {
      "text/plain": [
       "'Shipped by Newegg'"
      ]
     },
     "execution_count": 16,
     "metadata": {},
     "output_type": "execute_result"
    }
   ],
   "source": [
    "shipping = soup.findAll(\"a\", {\"class\": \"shipped-by-newegg\"})\n",
    "shipping[0].text"
   ]
  },
  {
   "cell_type": "code",
   "execution_count": null,
   "id": "d4d6e4f6-de7b-4de0-b18d-620cb6ed3d6a",
   "metadata": {},
   "outputs": [],
   "source": [
    "for i in range(len(containers)):\n",
    "    brand = soup.find(\"a\",{\"class\":\"item-brand\"})[i].img[\"title\"]\n",
    "    #if brand == soup.find(\"a\",{\"class\":\"item-brand\"}):\n",
    "    #    print(\"Brand:  \" + brand[i].img[\"title\"]) \n",
    "    #else:\n",
    "    #    print(\"Brand:  \" + '')\n",
    "\n",
    "    product = soup.find(\"a\",{\"class\":\"item-title\"})[i].text.replace(\",\",\" | \"))\n",
    "    #else:\n",
    "    #    print(\"Name:  \" + '')\n",
    "\n",
    "    current_price = soup.find(\"li\", {\"class\": \"price-current\"})\n",
    "    price    print(\"Price:  \" + current_price[i].strong.text + current_price[i].sup.text)\n",
    "    else:\n",
    "        print(\"Price:  \" + '')\n",
    "\n",
    "    info = [brand, product, current_price]"
   ]
  }
 ],
 "metadata": {
  "kernelspec": {
   "display_name": "Python 3 (ipykernel)",
   "language": "python",
   "name": "python3"
  },
  "language_info": {
   "codemirror_mode": {
    "name": "ipython",
    "version": 3
   },
   "file_extension": ".py",
   "mimetype": "text/x-python",
   "name": "python",
   "nbconvert_exporter": "python",
   "pygments_lexer": "ipython3",
   "version": "3.9.13"
  }
 },
 "nbformat": 4,
 "nbformat_minor": 5
}
